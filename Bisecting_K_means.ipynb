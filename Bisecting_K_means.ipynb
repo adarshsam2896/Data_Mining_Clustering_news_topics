{
 "cells": [
  {
   "cell_type": "code",
   "execution_count": 1,
   "id": "7c18129a",
   "metadata": {},
   "outputs": [],
   "source": [
    "import pandas as pd\n",
    "import numpy as np\n",
    "from collections import defaultdict\n",
    "from scipy.sparse import csr_matrix\n",
    "from sklearn.decomposition import TruncatedSVD\n",
    "from sklearn import preprocessing"
   ]
  },
  {
   "cell_type": "code",
   "execution_count": 2,
   "id": "2a0dfb4d",
   "metadata": {},
   "outputs": [],
   "source": [
    "with open(\"train.dat\", \"r\") as fh:\n",
    "    lines = fh.readlines() \n",
    "    #print(lines)"
   ]
  },
  {
   "cell_type": "code",
   "execution_count": 3,
   "id": "b9f5f933",
   "metadata": {},
   "outputs": [],
   "source": [
    "L=[]\n",
    "for d in lines:\n",
    "    L.append(d.split())"
   ]
  },
  {
   "cell_type": "code",
   "execution_count": 4,
   "id": "db5250a0",
   "metadata": {},
   "outputs": [],
   "source": [
    "Doc=[]\n",
    "for row in L:\n",
    "    temp=[]\n",
    "    for x in row:\n",
    "        temp.append(int(x))\n",
    "    Doc.append(temp)\n",
    "        \n",
    "       "
   ]
  },
  {
   "cell_type": "code",
   "execution_count": 5,
   "id": "7ae20d60",
   "metadata": {},
   "outputs": [],
   "source": [
    "#Doc[0]"
   ]
  },
  {
   "cell_type": "code",
   "execution_count": 6,
   "id": "dd02ff0c",
   "metadata": {},
   "outputs": [
    {
     "data": {
      "text/plain": [
       "1"
      ]
     },
     "execution_count": 6,
     "metadata": {},
     "output_type": "execute_result"
    }
   ],
   "source": [
    "Doc[0][2+1]"
   ]
  },
  {
   "cell_type": "code",
   "execution_count": 130,
   "id": "049f7b40",
   "metadata": {},
   "outputs": [
    {
     "data": {
      "text/plain": [
       "8580"
      ]
     },
     "execution_count": 130,
     "metadata": {},
     "output_type": "execute_result"
    }
   ],
   "source": [
    "len(Doc)"
   ]
  },
  {
   "cell_type": "code",
   "execution_count": 131,
   "id": "7a1fb6dd",
   "metadata": {
    "scrolled": true
   },
   "outputs": [
    {
     "name": "stdout",
     "output_type": "stream",
     "text": [
      "1107980\n"
     ]
    },
    {
     "name": "stderr",
     "output_type": "stream",
     "text": [
      "<ipython-input-131-b2fadaee46a9>:8: DeprecationWarning: `np.int` is a deprecated alias for the builtin `int`. To silence this warning, use `int` by itself. Doing this will not modify any behavior and is safe. When replacing `np.int`, you may wish to use e.g. `np.int64` or `np.int32` to specify the precision. If you wish to review your current use, check the release note link for additional information.\n",
      "Deprecated in NumPy 1.20; for more details and guidance: https://numpy.org/devdocs/release/1.20.0-notes.html#deprecations\n",
      "  ind=np.zeros(uq, dtype=np.int)\n",
      "<ipython-input-131-b2fadaee46a9>:10: DeprecationWarning: `np.int` is a deprecated alias for the builtin `int`. To silence this warning, use `int` by itself. Doing this will not modify any behavior and is safe. When replacing `np.int`, you may wish to use e.g. `np.int64` or `np.int32` to specify the precision. If you wish to review your current use, check the release note link for additional information.\n",
      "Deprecated in NumPy 1.20; for more details and guidance: https://numpy.org/devdocs/release/1.20.0-notes.html#deprecations\n",
      "  mar=np.zeros(len(Doc)+1, dtype=np.int)\n"
     ]
    },
    {
     "name": "stdout",
     "output_type": "stream",
     "text": [
      "  (0, 4)\t3.0\n",
      "  (0, 6)\t1.0\n",
      "  (0, 20)\t1.0\n",
      "  (0, 22)\t1.0\n",
      "  (0, 30)\t5.0\n",
      "  (0, 35)\t1.0\n",
      "  (0, 41)\t1.0\n",
      "  (0, 46)\t1.0\n",
      "  (0, 49)\t1.0\n",
      "  (0, 61)\t1.0\n",
      "  (0, 69)\t1.0\n",
      "  (0, 78)\t1.0\n",
      "  (0, 85)\t1.0\n",
      "  (0, 105)\t1.0\n",
      "  (0, 117)\t2.0\n",
      "  (0, 121)\t1.0\n",
      "  (0, 135)\t1.0\n",
      "  (0, 142)\t1.0\n",
      "  (0, 145)\t2.0\n",
      "  (0, 169)\t4.0\n",
      "  (0, 175)\t3.0\n",
      "  (0, 205)\t1.0\n",
      "  (0, 206)\t1.0\n",
      "  (0, 210)\t1.0\n",
      "  (0, 262)\t3.0\n",
      "  :\t:\n",
      "  (8579, 7908)\t1.0\n",
      "  (8579, 8138)\t1.0\n",
      "  (8579, 8142)\t1.0\n",
      "  (8579, 8256)\t1.0\n",
      "  (8579, 10117)\t1.0\n",
      "  (8579, 10195)\t1.0\n",
      "  (8579, 10797)\t1.0\n",
      "  (8579, 11606)\t1.0\n",
      "  (8579, 11747)\t1.0\n",
      "  (8579, 12468)\t1.0\n",
      "  (8579, 12537)\t1.0\n",
      "  (8579, 12901)\t1.0\n",
      "  (8579, 13113)\t2.0\n",
      "  (8579, 13189)\t1.0\n",
      "  (8579, 13719)\t1.0\n",
      "  (8579, 13938)\t1.0\n",
      "  (8579, 13939)\t1.0\n",
      "  (8579, 19752)\t1.0\n",
      "  (8579, 21044)\t1.0\n",
      "  (8579, 22592)\t1.0\n",
      "  (8579, 25101)\t1.0\n",
      "  (8579, 27641)\t1.0\n",
      "  (8579, 32303)\t1.0\n",
      "  (8579, 49115)\t2.0\n",
      "  (8579, 85241)\t3.0\n"
     ]
    }
   ],
   "source": [
    "uq=0\n",
    "for k in Doc:\n",
    "    uq=uq+(len(k)/2)\n",
    "rows=len(Doc)\n",
    "cols=126373\n",
    "uq=int(uq)\n",
    "print(uq)\n",
    "ind=np.zeros(uq, dtype=np.int)\n",
    "ct=np.zeros(uq, dtype=np.double)\n",
    "mar=np.zeros(len(Doc)+1, dtype=np.int)\n",
    "j=0\n",
    "n=0\n",
    "for d in Doc:\n",
    "    w=len(d)\n",
    "    for i in range(0,len(d),2):\n",
    "        k=int(i/2)\n",
    "        #print(k)\n",
    "        ind[k+n]=d[i]\n",
    "        ct[k+n]=d[i+1]\n",
    "    mar[j+1]=mar[j]+int(w/2)\n",
    "    j=j+1\n",
    "    n=n+int(w/2)\n",
    "    #print(w/2)\n",
    "mat=csr_matrix((ct,ind,mar),shape=(rows,cols), dtype=np.double)\n",
    "mat.sort_indices()\n",
    "#print((mat))\n",
    "print(mat)\n",
    " \n",
    "        \n",
    "        \n",
    "        \n",
    "        \n",
    "        "
   ]
  },
  {
   "cell_type": "code",
   "execution_count": 132,
   "id": "d551485b",
   "metadata": {},
   "outputs": [
    {
     "data": {
      "text/plain": [
       "'for i in range(r):\\n    rsum = 0.0    \\n    for j in range(ptr[i], ptr[i+1]):\\n        rsum += val[j]**2\\n    if rsum == 0.0:\\n        continue  # do not normalize empty rows\\n    rsum = 1.0/np.sqrt(rsum)\\n    for j in range(ptr[i], ptr[i+1]):\\n        val[j] *= rsum\\n\\nprint(mat[0])\\n#norm_mat=preprocessing.normalize(mat)'"
      ]
     },
     "execution_count": 132,
     "metadata": {},
     "output_type": "execute_result"
    }
   ],
   "source": [
    "#print(mat)\n",
    "r=mat.shape[0]\n",
    "nnz = mat.nnz\n",
    "ind, val, ptr = mat.indices, mat.data, mat.indptr\n",
    "df=defaultdict(int)\n",
    "for i in ind:\n",
    "    df[i] += 1\n",
    "# inverse document frequency\n",
    "for k,v in df.items():\n",
    "    df[k] = np.log(r / float(v))  ## df turns to idf - reusing memory\n",
    "# scale by idf\n",
    "for i in range(0, nnz):\n",
    "    val[i] *= df[ind[i]]\n",
    "'''for i in range(r):\n",
    "    rsum = 0.0    \n",
    "    for j in range(ptr[i], ptr[i+1]):\n",
    "        rsum += val[j]**2\n",
    "    if rsum == 0.0:\n",
    "        continue  # do not normalize empty rows\n",
    "    rsum = 1.0/np.sqrt(rsum)\n",
    "    for j in range(ptr[i], ptr[i+1]):\n",
    "        val[j] *= rsum\n",
    "\n",
    "print(mat[0])\n",
    "#norm_mat=preprocessing.normalize(mat)'''"
   ]
  },
  {
   "cell_type": "code",
   "execution_count": 133,
   "id": "1e7550e2",
   "metadata": {},
   "outputs": [
    {
     "data": {
      "text/plain": [
       "6296.564795611819"
      ]
     },
     "execution_count": 133,
     "metadata": {},
     "output_type": "execute_result"
    }
   ],
   "source": [
    "#print(norm_mat)\n",
    "X=mat[0].toarray()[0]\n",
    "s=0\n",
    "for i in X:\n",
    "    s=s+(i**2)\n",
    "s    "
   ]
  },
  {
   "cell_type": "code",
   "execution_count": 134,
   "id": "a7a78a42",
   "metadata": {},
   "outputs": [],
   "source": [
    "svd = TruncatedSVD(n_components=150)\n",
    "mat1=svd.fit_transform(mat)\n"
   ]
  },
  {
   "cell_type": "code",
   "execution_count": 135,
   "id": "82b2857c",
   "metadata": {},
   "outputs": [
    {
     "data": {
      "text/plain": [
       "(150,)"
      ]
     },
     "execution_count": 135,
     "metadata": {},
     "output_type": "execute_result"
    }
   ],
   "source": [
    "mat1[0].shape"
   ]
  },
  {
   "cell_type": "code",
   "execution_count": 136,
   "id": "1a2d43b3",
   "metadata": {},
   "outputs": [
    {
     "data": {
      "text/plain": [
       "848.5783633735977"
      ]
     },
     "execution_count": 136,
     "metadata": {},
     "output_type": "execute_result"
    }
   ],
   "source": [
    "s=0\n",
    "for i in mat1[0]:\n",
    "    s=s+(i**2)\n",
    "s"
   ]
  },
  {
   "cell_type": "code",
   "execution_count": 137,
   "id": "f0694af7",
   "metadata": {},
   "outputs": [],
   "source": [
    "#mat1[0.0]"
   ]
  },
  {
   "cell_type": "code",
   "execution_count": 138,
   "id": "78aa89f8",
   "metadata": {},
   "outputs": [],
   "source": [
    "mat2=preprocessing.normalize(mat1,axis=1)"
   ]
  },
  {
   "cell_type": "code",
   "execution_count": 139,
   "id": "927bde45",
   "metadata": {},
   "outputs": [
    {
     "data": {
      "text/plain": [
       "1.0"
      ]
     },
     "execution_count": 139,
     "metadata": {},
     "output_type": "execute_result"
    }
   ],
   "source": [
    "s=0\n",
    "for i in mat2[0]:\n",
    "    s=s+(i**2)\n",
    "s"
   ]
  },
  {
   "cell_type": "code",
   "execution_count": 140,
   "id": "efdd24ae",
   "metadata": {},
   "outputs": [],
   "source": [
    "from sklearn.cluster import KMeans"
   ]
  },
  {
   "cell_type": "code",
   "execution_count": 141,
   "id": "74bbb430",
   "metadata": {},
   "outputs": [
    {
     "data": {
      "text/plain": [
       "array([ 0.26579287, -0.1718538 , -0.01907954, -0.06719667,  0.10489349,\n",
       "        0.03168274,  0.05811629, -0.09867117, -0.04047651,  0.07532752,\n",
       "       -0.18556916,  0.20224977,  0.12645731,  0.0187294 , -0.11049219,\n",
       "       -0.08780574, -0.04572768, -0.16314717,  0.04453398,  0.15621177,\n",
       "       -0.02073082, -0.0589379 , -0.09860155,  0.04200501,  0.05070842,\n",
       "       -0.12248386, -0.00353899, -0.07244837, -0.05920054, -0.0791057 ,\n",
       "        0.03467022, -0.0199413 ,  0.02163613, -0.04560938, -0.10471432,\n",
       "       -0.00333218,  0.08903909, -0.00080278, -0.1084413 , -0.00135885,\n",
       "        0.16407135, -0.08025754, -0.0235093 ,  0.10504878, -0.07004217,\n",
       "        0.05289117, -0.04545088, -0.10036819,  0.13612611, -0.0669281 ,\n",
       "        0.06787423,  0.01960851, -0.16842978, -0.12581732,  0.10346603,\n",
       "       -0.06052494,  0.06298194,  0.03889335,  0.05438617, -0.0892544 ,\n",
       "       -0.20516494,  0.09313202, -0.06915606,  0.09589386,  0.00254239,\n",
       "        0.06619606,  0.02566678,  0.00645388,  0.04815515,  0.0585418 ,\n",
       "       -0.00226411,  0.08615698, -0.03392006,  0.03881932,  0.03047417,\n",
       "        0.03936166, -0.1153005 , -0.00336613, -0.05289303, -0.05208906,\n",
       "        0.07275808,  0.06979326, -0.01133376, -0.04308805, -0.13358195,\n",
       "       -0.07658183, -0.06568863, -0.1578254 ,  0.06911163,  0.0405433 ,\n",
       "        0.04878113,  0.04940587,  0.06918519,  0.06264659,  0.06697063,\n",
       "       -0.03788111,  0.04274166,  0.00991938,  0.08903034, -0.09238766,\n",
       "       -0.00948483, -0.01288864,  0.01656629, -0.01691337, -0.06779537,\n",
       "        0.09910971,  0.01247044, -0.05612747, -0.07037068,  0.00261912,\n",
       "        0.05107565,  0.04375419,  0.09455119, -0.04532414,  0.08000745,\n",
       "       -0.04996544,  0.02694893,  0.0909011 , -0.068334  , -0.00670197,\n",
       "        0.02503255,  0.13141281,  0.04452991, -0.02321215,  0.01675849,\n",
       "        0.03726419,  0.01992043,  0.16837377, -0.02296636, -0.05462856,\n",
       "        0.03870205,  0.1663481 ,  0.06127471, -0.04092933, -0.0602538 ,\n",
       "       -0.03478072, -0.02783673, -0.05333283,  0.06365468,  0.06753865,\n",
       "        0.10166827, -0.07926176,  0.09454153,  0.14518835,  0.08600394,\n",
       "        0.04006126, -0.00463668,  0.05047942, -0.00154498, -0.05568197])"
      ]
     },
     "metadata": {},
     "output_type": "display_data"
    }
   ],
   "source": [
    "display(mat2[0])"
   ]
  },
  {
   "cell_type": "code",
   "execution_count": 142,
   "id": "08ad5a12",
   "metadata": {},
   "outputs": [],
   "source": [
    "kx=KMeans(2).fit(mat2)"
   ]
  },
  {
   "cell_type": "code",
   "execution_count": 143,
   "id": "674c26da",
   "metadata": {},
   "outputs": [
    {
     "data": {
      "text/plain": [
       "array([1, 0, 1, ..., 0, 0, 0], dtype=int32)"
      ]
     },
     "execution_count": 143,
     "metadata": {},
     "output_type": "execute_result"
    }
   ],
   "source": [
    "kx.labels_"
   ]
  },
  {
   "cell_type": "code",
   "execution_count": 144,
   "id": "178c01b7",
   "metadata": {},
   "outputs": [
    {
     "data": {
      "text/plain": [
       "7163.254729141701"
      ]
     },
     "execution_count": 144,
     "metadata": {},
     "output_type": "execute_result"
    }
   ],
   "source": [
    "kx.inertia_"
   ]
  },
  {
   "cell_type": "code",
   "execution_count": 145,
   "id": "d1468c81",
   "metadata": {},
   "outputs": [
    {
     "name": "stdout",
     "output_type": "stream",
     "text": [
      "[ 0.26579287 -0.1718538  -0.01907954 -0.06719667  0.10489349  0.03168274\n",
      "  0.05811629 -0.09867117 -0.04047651  0.07532752 -0.18556916  0.20224977\n",
      "  0.12645731  0.0187294  -0.11049219 -0.08780574 -0.04572768 -0.16314717\n",
      "  0.04453398  0.15621177 -0.02073082 -0.0589379  -0.09860155  0.04200501\n",
      "  0.05070842 -0.12248386 -0.00353899 -0.07244837 -0.05920054 -0.0791057\n",
      "  0.03467022 -0.0199413   0.02163613 -0.04560938 -0.10471432 -0.00333218\n",
      "  0.08903909 -0.00080278 -0.1084413  -0.00135885  0.16407135 -0.08025754\n",
      " -0.0235093   0.10504878 -0.07004217  0.05289117 -0.04545088 -0.10036819\n",
      "  0.13612611 -0.0669281   0.06787423  0.01960851 -0.16842978 -0.12581732\n",
      "  0.10346603 -0.06052494  0.06298194  0.03889335  0.05438617 -0.0892544\n",
      " -0.20516494  0.09313202 -0.06915606  0.09589386  0.00254239  0.06619606\n",
      "  0.02566678  0.00645388  0.04815515  0.0585418  -0.00226411  0.08615698\n",
      " -0.03392006  0.03881932  0.03047417  0.03936166 -0.1153005  -0.00336613\n",
      " -0.05289303 -0.05208906  0.07275808  0.06979326 -0.01133376 -0.04308805\n",
      " -0.13358195 -0.07658183 -0.06568863 -0.1578254   0.06911163  0.0405433\n",
      "  0.04878113  0.04940587  0.06918519  0.06264659  0.06697063 -0.03788111\n",
      "  0.04274166  0.00991938  0.08903034 -0.09238766 -0.00948483 -0.01288864\n",
      "  0.01656629 -0.01691337 -0.06779537  0.09910971  0.01247044 -0.05612747\n",
      " -0.07037068  0.00261912  0.05107565  0.04375419  0.09455119 -0.04532414\n",
      "  0.08000745 -0.04996544  0.02694893  0.0909011  -0.068334   -0.00670197\n",
      "  0.02503255  0.13141281  0.04452991 -0.02321215  0.01675849  0.03726419\n",
      "  0.01992043  0.16837377 -0.02296636 -0.05462856  0.03870205  0.1663481\n",
      "  0.06127471 -0.04092933 -0.0602538  -0.03478072 -0.02783673 -0.05333283\n",
      "  0.06365468  0.06753865  0.10166827 -0.07926176  0.09454153  0.14518835\n",
      "  0.08600394  0.04006126 -0.00463668  0.05047942 -0.00154498 -0.05568197]\n"
     ]
    }
   ],
   "source": [
    "#kx.cluster_centers_\n",
    "print(mat2[0])"
   ]
  },
  {
   "cell_type": "code",
   "execution_count": 146,
   "id": "ff89103c",
   "metadata": {},
   "outputs": [
    {
     "name": "stdout",
     "output_type": "stream",
     "text": [
      "[[ 1  2]\n",
      " [ 8  7]\n",
      " [ 9 10]]\n"
     ]
    },
    {
     "data": {
      "text/plain": [
       "array([[8.5, 8.5],\n",
       "       [1. , 2. ]])"
      ]
     },
     "execution_count": 146,
     "metadata": {},
     "output_type": "execute_result"
    }
   ],
   "source": [
    "a=np.array([[1,2,100],[8,7,200],[9,10,100]])\n",
    "print(a[:,0:-1])\n",
    "k=KMeans(2).fit(a[:,0:-1])\n",
    "k.labels_\n",
    "k.cluster_centers_\n"
   ]
  },
  {
   "cell_type": "code",
   "execution_count": 147,
   "id": "7c77a859",
   "metadata": {},
   "outputs": [
    {
     "data": {
      "text/plain": [
       "array([1, 0, 0], dtype=int32)"
      ]
     },
     "execution_count": 147,
     "metadata": {},
     "output_type": "execute_result"
    }
   ],
   "source": [
    "(k.labels_)"
   ]
  },
  {
   "cell_type": "code",
   "execution_count": 148,
   "id": "9b440155",
   "metadata": {},
   "outputs": [],
   "source": [
    "#a=a[[False,True,True]]\n",
    "#print(a)\n",
    "#print(a[0])\n",
    "a=a[k.labels_==1]\n",
    "#k.labels_==0"
   ]
  },
  {
   "cell_type": "code",
   "execution_count": 149,
   "id": "5aee163e",
   "metadata": {},
   "outputs": [],
   "source": [
    "test={}\n",
    "test[0]=np.array(a)"
   ]
  },
  {
   "cell_type": "code",
   "execution_count": 150,
   "id": "72b901c9",
   "metadata": {},
   "outputs": [
    {
     "name": "stdout",
     "output_type": "stream",
     "text": [
      "[[  1   2 100]]\n"
     ]
    }
   ],
   "source": [
    "h=test[0]\n",
    "\n",
    "h=[[1,2,4]]\n",
    "print(test[0])\n"
   ]
  },
  {
   "cell_type": "code",
   "execution_count": 151,
   "id": "45d23da5",
   "metadata": {},
   "outputs": [
    {
     "name": "stdout",
     "output_type": "stream",
     "text": [
      "[2]\n"
     ]
    }
   ],
   "source": [
    "#ine=0\n",
    "#for i in range(0,len(k.labels_)):\n",
    "#    X=a[i]\n",
    "#    Y=k.cluster_centers_[k.labels_[i]]\n",
    "#    print(np.square(X-Y).sum())\n",
    "#ine    \n",
    "l=[]\n",
    "l.append(2)\n",
    "print(l)"
   ]
  },
  {
   "cell_type": "code",
   "execution_count": 152,
   "id": "fd31dc1d",
   "metadata": {},
   "outputs": [],
   "source": [
    "\n",
    "X=mat2\n",
    "#print(X[0])\n",
    "#for i in range(0,len(X)):\n",
    "#    X[i].append(i+1)\n",
    "\n",
    "#print(X[0])'''\n",
    "#p=np.array([[0,1,2,3],[4,5,6,7]])\n",
    "#for i in range(0,len(p)):\n",
    "#    p[i,-1]=i\n",
    "#p[:,0:-1]\n",
    "\n",
    "#X=mat2\n",
    "#print(X[1])\n",
    "for i in range(0,len(X)):\n",
    "    X[i,-1]=(i+1)\n",
    "#print(len(X[:,-1]))\n",
    "#X=np.array([[5,6],[2,3],[7,9],[10,12]])\n",
    "#kx=KMeans(n_clusters=2).fit(X)\n",
    "#X[kx.labels_==0]\n",
    "#ONE=[]\n",
    "#ZERO=[]\n",
    "#for i in range(0,len(kx.labels_)):\n",
    "#    if(kx.labels_[i]==0):\n",
    " #       ZERO.append(X[i])\n",
    "  #  else:\n",
    "\n",
    "   #     ONE.append(X[i])\n",
    "#print(ZERO)  \n",
    "#print(ONE)"
   ]
  },
  {
   "cell_type": "code",
   "execution_count": 153,
   "id": "196e961d",
   "metadata": {},
   "outputs": [
    {
     "name": "stdout",
     "output_type": "stream",
     "text": [
      "[7132.914234313334, 6873.206960377709, 6673.537301272452, 6499.421832135757, 6386.348500851681]\n"
     ]
    }
   ],
   "source": [
    "\n",
    "    \n",
    "    \n",
    "doc_cluster={}\n",
    "k=1\n",
    "sse={}\n",
    "sseplot=[]\n",
    "n_mask=[]\n",
    "\n",
    "TEST=True\n",
    "\n",
    "while(k<=5):\n",
    "    #code for k means\n",
    "    #print(doc_cluster)\n",
    "    #print(X)\n",
    "    kx=KMeans(n_clusters=2).fit(X[:,0:-1])\n",
    "    k=k+1\n",
    "    zero=0\n",
    "    one=1\n",
    "    #print(kx.labels_)\n",
    "    for i in range(0,6):\n",
    "        if i not in n_mask:\n",
    "            zero=i\n",
    "            n_mask.append(i)\n",
    "            break\n",
    "    for i in range(0,6):\n",
    "        if i not in n_mask:\n",
    "            one=i\n",
    "            n_mask.append(i)\n",
    "            break\n",
    "    sse[zero]=0\n",
    "    sse[one]=0\n",
    "    \n",
    "    for i in range(0,len(kx.labels_)):\n",
    "        #print(i)\n",
    "        x=X[i,0:-1]\n",
    "        y=kx.cluster_centers_[kx.labels_[i]]\n",
    "        z=np.square(x-y).sum()\n",
    "        if(kx.labels_[i]==0):\n",
    "            sse[zero]=sse[zero]+z\n",
    "        else:\n",
    "            sse[one]=sse[one]+z\n",
    "    #print(X[kx.labels_==0])\n",
    "    doc_cluster[zero]=X[kx.labels_==0]\n",
    "    doc_cluster[one]=X[kx.labels_==1]\n",
    "    plot_sum=0\n",
    "    for key in sse:\n",
    "        plot_sum+=sse[key]\n",
    "    sseplot.append(plot_sum)\n",
    "    no_chosen_val=-1\n",
    "    no_chosen=-1\n",
    "    for key in sse:\n",
    "        if(sse[key]>no_chosen_val):\n",
    "            no_chosen_val=sse[key]\n",
    "            no_chosen=key\n",
    "    #print(no_chosen)\n",
    "    del(sse[no_chosen])\n",
    "    if(TEST==True):\n",
    "        #print(len(doc_cluster[0]))\n",
    "        #print(len(doc_cluster[1]))\n",
    "        TEST=False\n",
    "    X=doc_cluster[no_chosen]\n",
    "    #print((X[:,-1]))\n",
    "    del(doc_cluster[no_chosen])\n",
    "    for j in range(0,len(n_mask)):\n",
    "        if(n_mask[j]==no_chosen):\n",
    "            del(n_mask[j])\n",
    "            break\n",
    "    #print(doc_cluster)\n",
    "print(sseplot)\n",
    "        \n",
    "        \n",
    "        \n",
    "            \n",
    "            \n",
    "            \n",
    "    \n",
    "    \n",
    "    \n",
    "    \n",
    "    \n",
    "    \n",
    "    \n",
    "    \n",
    "    \n",
    "    \n",
    "    \n",
    "    \n",
    "    \n",
    "    "
   ]
  },
  {
   "cell_type": "code",
   "execution_count": 154,
   "id": "7c258937",
   "metadata": {},
   "outputs": [
    {
     "name": "stdout",
     "output_type": "stream",
     "text": [
      "0\n",
      "3\n",
      "2\n",
      "4\n",
      "5\n"
     ]
    }
   ],
   "source": [
    "#print(len(doc_cluster[20]))\n",
    "for key in doc_cluster:\n",
    "    print(key)"
   ]
  },
  {
   "cell_type": "code",
   "execution_count": 155,
   "id": "e1769704",
   "metadata": {},
   "outputs": [
    {
     "data": {
      "text/plain": [
       "8581"
      ]
     },
     "execution_count": 155,
     "metadata": {},
     "output_type": "execute_result"
    }
   ],
   "source": [
    "l=[None]*8581\n",
    "len(l)"
   ]
  },
  {
   "cell_type": "code",
   "execution_count": 156,
   "id": "f2d2d74f",
   "metadata": {},
   "outputs": [
    {
     "data": {
      "text/plain": [
       "5596"
      ]
     },
     "execution_count": 156,
     "metadata": {},
     "output_type": "execute_result"
    }
   ],
   "source": [
    "count=0\n",
    "for key in doc_cluster:\n",
    "    count=count+len(doc_cluster[key])\n",
    "        \n",
    "count            \n",
    "        "
   ]
  },
  {
   "cell_type": "code",
   "execution_count": 157,
   "id": "478ea813",
   "metadata": {},
   "outputs": [
    {
     "ename": "KeyError",
     "evalue": "20",
     "output_type": "error",
     "traceback": [
      "\u001b[0;31m---------------------------------------------------------------------------\u001b[0m",
      "\u001b[0;31mKeyError\u001b[0m                                  Traceback (most recent call last)",
      "\u001b[0;32m<ipython-input-157-e23c1b601160>\u001b[0m in \u001b[0;36m<module>\u001b[0;34m\u001b[0m\n\u001b[0;32m----> 1\u001b[0;31m \u001b[0mLi\u001b[0m\u001b[0;34m=\u001b[0m\u001b[0mdoc_cluster\u001b[0m\u001b[0;34m[\u001b[0m\u001b[0;36m20\u001b[0m\u001b[0;34m]\u001b[0m\u001b[0;34m\u001b[0m\u001b[0;34m\u001b[0m\u001b[0m\n\u001b[0m\u001b[1;32m      2\u001b[0m \u001b[0mprint\u001b[0m\u001b[0;34m(\u001b[0m\u001b[0;34m(\u001b[0m\u001b[0mLi\u001b[0m\u001b[0;34m[\u001b[0m\u001b[0;34m-\u001b[0m\u001b[0;36m1\u001b[0m\u001b[0;34m]\u001b[0m\u001b[0;34m)\u001b[0m\u001b[0;34m)\u001b[0m\u001b[0;34m\u001b[0m\u001b[0;34m\u001b[0m\u001b[0m\n\u001b[1;32m      3\u001b[0m \u001b[0mprint\u001b[0m\u001b[0;34m(\u001b[0m\u001b[0mlen\u001b[0m\u001b[0;34m(\u001b[0m\u001b[0mLi\u001b[0m\u001b[0;34m)\u001b[0m\u001b[0;34m)\u001b[0m\u001b[0;34m\u001b[0m\u001b[0;34m\u001b[0m\u001b[0m\n",
      "\u001b[0;31mKeyError\u001b[0m: 20"
     ]
    }
   ],
   "source": [
    "\n",
    "Li=doc_cluster[20]\n",
    "print((Li[-1]))\n",
    "print(len(Li))       "
   ]
  },
  {
   "cell_type": "code",
   "execution_count": 158,
   "id": "7f7aebeb",
   "metadata": {},
   "outputs": [
    {
     "name": "stdout",
     "output_type": "stream",
     "text": [
      "2984\n"
     ]
    }
   ],
   "source": [
    "print(len(X))"
   ]
  },
  {
   "cell_type": "code",
   "execution_count": 159,
   "id": "5e968026",
   "metadata": {},
   "outputs": [
    {
     "name": "stdout",
     "output_type": "stream",
     "text": [
      "8580\n"
     ]
    }
   ],
   "source": [
    "print(count+len(X))"
   ]
  },
  {
   "cell_type": "code",
   "execution_count": 160,
   "id": "83a6d2b6",
   "metadata": {},
   "outputs": [
    {
     "name": "stdout",
     "output_type": "stream",
     "text": [
      "1\n"
     ]
    }
   ],
   "source": [
    "print(no_chosen)"
   ]
  },
  {
   "cell_type": "code",
   "execution_count": 161,
   "id": "9916f2d9",
   "metadata": {},
   "outputs": [
    {
     "name": "stdout",
     "output_type": "stream",
     "text": [
      "{0: array([[ 3.75980544e-01, -2.13069442e-01,  1.38460489e-01, ...,\n",
      "        -5.74570244e-02,  2.04462979e-02,  3.11800000e+03],\n",
      "       [ 2.97882384e-01, -8.79675382e-02,  1.08164491e-01, ...,\n",
      "         2.23889112e-02,  1.22231892e-02,  3.67300000e+03],\n",
      "       [ 3.00920846e-01, -5.25285675e-02,  5.52161824e-02, ...,\n",
      "        -6.10321889e-02,  3.30314319e-03,  7.16900000e+03],\n",
      "       ...,\n",
      "       [ 3.24496904e-01, -5.49829116e-02,  7.58220709e-02, ...,\n",
      "         5.68156969e-03, -2.51370125e-02,  7.97400000e+03],\n",
      "       [ 4.06668300e-01, -1.32266329e-02,  9.84253291e-02, ...,\n",
      "        -2.65652433e-02,  2.04643945e-02,  7.97600000e+03],\n",
      "       [ 2.94843360e-01, -6.33709699e-02,  7.70734859e-02, ...,\n",
      "        -3.75384528e-02, -1.67876638e-02,  7.97700000e+03]]), 3: array([[ 3.55284000e-01, -1.48391605e-01,  1.67087258e-01, ...,\n",
      "         8.09502495e-02,  1.75177275e-03,  3.41300000e+03],\n",
      "       [ 3.21742789e-01, -1.60125179e-01,  1.32207494e-01, ...,\n",
      "         3.99520322e-02, -3.03448728e-02,  3.41500000e+03],\n",
      "       [ 2.83988484e-01, -1.50340859e-01,  1.11729263e-01, ...,\n",
      "         3.64345564e-02, -1.16131792e-02,  3.41600000e+03],\n",
      "       ...,\n",
      "       [ 2.79737438e-01, -1.85123005e-01,  1.39907856e-01, ...,\n",
      "        -9.56838967e-03,  2.68676074e-03,  4.82200000e+03],\n",
      "       [ 2.41505174e-01, -1.54971438e-01,  2.00822467e-01, ...,\n",
      "         3.25173148e-02, -1.60315919e-02,  5.18300000e+03],\n",
      "       [ 3.12291722e-01, -1.46863008e-01,  1.71399879e-01, ...,\n",
      "        -1.94490430e-02, -2.28066495e-02,  7.72300000e+03]]), 2: array([[ 2.55212914e-01, -1.48612491e-01,  2.18565604e-01, ...,\n",
      "         7.81662136e-03, -2.32877447e-02,  3.70500000e+03],\n",
      "       [ 4.25387524e-01, -2.45625689e-01,  2.68171376e-01, ...,\n",
      "         8.86597613e-02, -3.27104038e-02,  4.61300000e+03],\n",
      "       [ 2.03078844e-01, -1.31224462e-01,  2.40109479e-01, ...,\n",
      "        -5.20963685e-02,  6.89623294e-03,  4.82300000e+03],\n",
      "       ...,\n",
      "       [ 2.66051174e-01, -4.65190416e-02,  2.86829818e-01, ...,\n",
      "         3.06068725e-03, -8.33380455e-02,  7.16500000e+03],\n",
      "       [ 3.69809045e-01, -2.30337731e-01,  2.51095476e-01, ...,\n",
      "        -8.15279628e-02,  2.08500680e-02,  7.16800000e+03],\n",
      "       [ 3.01901028e-01, -2.02829763e-01,  2.28392006e-01, ...,\n",
      "        -1.71168145e-02, -6.20571477e-02,  8.29000000e+03]]), 4: array([[ 5.07785246e-01, -4.27543628e-02,  1.92735806e-01, ...,\n",
      "        -3.20498366e-02,  1.00346249e-01,  2.00000000e+00],\n",
      "       [ 2.70938065e-01, -1.89841771e-01, -2.61384107e-02, ...,\n",
      "        -6.60157579e-02,  2.55886517e-02,  6.00000000e+00],\n",
      "       [ 2.88075025e-01, -1.79839613e-01,  3.33420758e-02, ...,\n",
      "         2.86298965e-02,  1.30064169e-02,  7.00000000e+00],\n",
      "       ...,\n",
      "       [ 2.00040309e-01, -1.28740191e-01,  8.91686705e-02, ...,\n",
      "         1.10372910e-02,  9.79685564e-03,  8.57800000e+03],\n",
      "       [ 1.67950151e-01, -1.04444275e-01,  8.97913173e-02, ...,\n",
      "        -6.47197888e-05,  4.19560100e-02,  8.57900000e+03],\n",
      "       [ 1.22600119e-01, -7.36390643e-02,  6.21417665e-02, ...,\n",
      "         2.63609775e-02, -9.46985721e-02,  8.58000000e+03]]), 5: array([[ 3.56060366e-01, -2.16859842e-01,  1.69650043e-01, ...,\n",
      "         6.85255763e-02,  1.03392504e-01,  2.60000000e+01],\n",
      "       [ 3.34018777e-01, -2.20235970e-01,  1.64546937e-01, ...,\n",
      "        -1.38479643e-01, -9.22026968e-02,  1.30000000e+02],\n",
      "       [ 2.83437967e-01, -1.99410598e-01, -4.18678007e-02, ...,\n",
      "        -5.75326249e-02, -6.94877936e-02,  2.87000000e+02],\n",
      "       ...,\n",
      "       [ 1.88195389e-01, -8.45101132e-02,  1.23297101e-01, ...,\n",
      "         1.57359461e-02,  6.00610649e-02,  7.16600000e+03],\n",
      "       [ 1.28926145e-01, -7.02156643e-02,  9.15227081e-02, ...,\n",
      "        -2.85984131e-03, -2.86830702e-02,  7.16700000e+03],\n",
      "       [ 2.20817156e-01, -6.21913295e-02,  7.40799891e-02, ...,\n",
      "        -5.06650319e-02,  3.30728540e-03,  7.30800000e+03]])}\n"
     ]
    }
   ],
   "source": [
    "print(doc_cluster)"
   ]
  },
  {
   "cell_type": "code",
   "execution_count": 162,
   "id": "3d359042",
   "metadata": {},
   "outputs": [
    {
     "name": "stdout",
     "output_type": "stream",
     "text": [
      "[[ 2.65792866e-01 -1.71853805e-01 -1.90795408e-02 ...  5.04794248e-02\n",
      "  -1.54497963e-03  1.00000000e+00]\n",
      " [ 3.01083864e-01 -1.96693109e-01  3.04730519e-03 ...  7.78043989e-02\n",
      "  -1.03632931e-01  3.00000000e+00]\n",
      " [ 3.28769456e-01 -1.90842861e-01 -7.96196481e-02 ...  1.32375607e-02\n",
      "  -2.17671675e-02  4.00000000e+00]\n",
      " ...\n",
      " [ 2.86226413e-01 -1.55549377e-01  4.19375841e-02 ... -1.58082071e-02\n",
      "   5.08260784e-02  5.91000000e+03]\n",
      " [ 4.41524774e-01 -2.97254262e-01 -1.88137941e-01 ... -3.10497783e-02\n",
      "  -3.00956134e-02  6.56400000e+03]\n",
      " [ 1.98152555e-01 -1.26397784e-01 -4.36012911e-02 ... -4.26850869e-03\n",
      "  -6.77999174e-03  6.65200000e+03]]\n"
     ]
    }
   ],
   "source": [
    "print(X)"
   ]
  },
  {
   "cell_type": "code",
   "execution_count": 163,
   "id": "31e30d5d",
   "metadata": {},
   "outputs": [],
   "source": [
    "doc_cluster[no_chosen]=X"
   ]
  },
  {
   "cell_type": "code",
   "execution_count": 164,
   "id": "a8f94fa9",
   "metadata": {},
   "outputs": [],
   "source": [
    "for key in doc_cluster:\n",
    "    for L in doc_cluster[key]:\n",
    "        print\n",
    "        l[int(L[-1])]=key"
   ]
  },
  {
   "cell_type": "code",
   "execution_count": 165,
   "id": "9f070a03",
   "metadata": {},
   "outputs": [
    {
     "name": "stdout",
     "output_type": "stream",
     "text": [
      "None\n"
     ]
    }
   ],
   "source": [
    "for i in l:\n",
    "    if i is None:\n",
    "        print(i)"
   ]
  },
  {
   "cell_type": "code",
   "execution_count": 166,
   "id": "7d03cb5f",
   "metadata": {},
   "outputs": [
    {
     "name": "stdout",
     "output_type": "stream",
     "text": [
      "None\n"
     ]
    }
   ],
   "source": [
    "print(l[0])"
   ]
  },
  {
   "cell_type": "code",
   "execution_count": 167,
   "id": "5c5aadea",
   "metadata": {},
   "outputs": [],
   "source": [
    "txtf=open(\"result1.txt\",\"w\")"
   ]
  },
  {
   "cell_type": "code",
   "execution_count": 168,
   "id": "eb648c3b",
   "metadata": {},
   "outputs": [],
   "source": [
    "for i in l[1:]:\n",
    "    txtf.write(str(i)+\"\\n\")"
   ]
  },
  {
   "cell_type": "code",
   "execution_count": 169,
   "id": "2a6af822",
   "metadata": {},
   "outputs": [
    {
     "name": "stdout",
     "output_type": "stream",
     "text": [
      "4\n"
     ]
    }
   ],
   "source": [
    "print(l[8579])"
   ]
  },
  {
   "cell_type": "code",
   "execution_count": 170,
   "id": "667cbebb",
   "metadata": {},
   "outputs": [],
   "source": [
    "txtf.close()"
   ]
  },
  {
   "cell_type": "code",
   "execution_count": 171,
   "id": "cfaca512",
   "metadata": {},
   "outputs": [],
   "source": [
    "import matplotlib.pyplot as plt"
   ]
  },
  {
   "cell_type": "code",
   "execution_count": 63,
   "id": "2f701723",
   "metadata": {
    "scrolled": true
   },
   "outputs": [
    {
     "data": {
      "text/plain": [
       "Text(0, 0.5, 'SSE')"
      ]
     },
     "execution_count": 63,
     "metadata": {},
     "output_type": "execute_result"
    },
    {
     "data": {
      "image/png": "[encoded data removed]",
      "text/plain": [
       "<Figure size 720x432 with 1 Axes>"
      ]
     },
     "metadata": {
      "needs_background": "light"
     },
     "output_type": "display_data"
    }
   ],
   "source": [
    "plt.figure(figsize=(10,6))\n",
    "x_co=[0,2,4,6,8,10,12,14,16,18,20]\n",
    "plt.plot(x_co,sseplot[0::2],marker='o')\n",
    "plt.xticks([0,2,4,6,8,10,12,14,16,18,20],[1,3,5,7,9,11,13,15,17,19,21])\n",
    "plt.grid()\n",
    "plt.xlabel(\"number of cluters\")\n",
    "plt.ylabel(\"SSE\")"
   ]
  },
  {
   "cell_type": "code",
   "execution_count": null,
   "id": "3e1243d9",
   "metadata": {},
   "outputs": [],
   "source": []
  }
 ],
 "metadata": {
  "kernelspec": {
   "display_name": "Python 3",
   "language": "python",
   "name": "python3"
  },
  "language_info": {
   "codemirror_mode": {
    "name": "ipython",
    "version": 3
   },
   "file_extension": ".py",
   "mimetype": "text/x-python",
   "name": "python",
   "nbconvert_exporter": "python",
   "pygments_lexer": "ipython3",
   "version": "3.8.8"
  }
 },
 "nbformat": 4,
 "nbformat_minor": 5
}
